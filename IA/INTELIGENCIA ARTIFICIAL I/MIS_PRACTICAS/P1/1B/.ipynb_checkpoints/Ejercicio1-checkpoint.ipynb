{
 "cells": [
  {
   "cell_type": "markdown",
   "metadata": {},
   "source": [
    "ENUNCIADO:\n",
    "\n",
    "Un grupo de 5 personas quiere cruzar un viejo y estrecho puente. Es una noche\n",
    "cerrada y se necesita llevar una linterna para cruzar. El grupo solo dispone de\n",
    "una linterna, a la que le quedan 5 minutos de batería.\n",
    "    1. Cada persona tarda en cruzar 10, 30, 60, 80 y 120 segundos, respectivamente.\n",
    "    2. El puente solo resiste un máximo de 2 personas cruzando a la vez, y cuando cruzan dos personas juntas, caminan a la velocidad del más lento.\n",
    "    3. No se puede lanzar la linterna de un extremo a otro del puente, así que cada vez que crucen dos personas, alguien tiene que volver a cruzar hacia atrás con la linterna a buscar a los compañeros que falten, y así hasta que hayan cruzado todos."
   ]
  },
  {
   "cell_type": "code",
   "execution_count": null,
   "metadata": {},
   "outputs": [],
   "source": [
    "from search import *"
   ]
  },
  {
   "cell_type": "code",
   "execution_count": null,
   "metadata": {},
   "outputs": [],
   "source": [
    "class Cruzar_Personas (Problem,personas,tiempo,tupla):\n",
    "    n=personas\n",
    "    t=tiempo\n",
    "    tiempos=tupla\n",
    "    \n",
    "    def __init__(self):\n",
    "        if n != len (tiempos):\n",
    "            print (\"No coincide el número de personas con sus respectivos tiempos.\")\n",
    "        else:\n",
    "            initial={}\n",
    "            goal={}\n",
    "            #El estado es un conjunto que guarda las personas que están en el lado izq. del puente (queremos que todas crucen a la derecha)\n",
    "            for x in range (n+1): #Va hasta n+1, pues n va a ser la linterna!\n",
    "                initial.add(x)\n",
    "            Problem.__init__(self, initial,goal)\n",
    "            #Las acciones vienen determinadas por una tupla, cuyo primer elemento es la descripcion;\n",
    "            # y el segundo es otra tupla que señala que dos personas cómo máximo cruzan el puente\n",
    "            self.actions=[(\"%d\" % x,x) for x in range (n)] #Crear las acciones en las que cruza una sola persona\n",
    "            for x in range (n):                            #Crear las acciones en las que cruzan dos personas\n",
    "                for y in range(x+1,n):\n",
    "                    self.actions.append((\"%d,%d\"%(x,y),(x,y)))\n",
    "                    \n",
    "    def actions(self, state):\n",
    "        l=[]\n",
    "        for a in self.actions:\n",
    "            t=a[1][0] in state\n",
    "            w=n in state\n",
    "            if (t and w) or (not (t) and not(w)):\n",
    "                    if len(a[1]==1):\n",
    "                            l.append(a)\n",
    "                    else:\n",
    "                        if (t and w and a[1][1] in state) or (not (t) and not(w) and not(a[1][1] in state)):\n",
    "                            if \n",
    "                            l.append(a)\n",
    "        return l\n",
    "    \n",
    "    def result(self, state, action):\n",
    "        if n in state:\n",
    "            state.remove(n)\n",
    "        else:\n",
    "            state.add(n)\n",
    "        if action[1][0] in state:\n",
    "            state.remove(action[1][0])\n",
    "        else:\n",
    "            state.add(action[1][0])\n",
    "        if len (a[1])==2:\n",
    "             if action[1][1] in state:\n",
    "                state.remove(action[1][1])\n",
    "            else:\n",
    "                state.add(action[1][1])\n",
    "        return state\n",
    "    \n",
    "    def path_cost(self, c, state1, action, state2):\n",
    "        return c + \n",
    "    def goal_test(self, state):"
   ]
  }
 ],
 "metadata": {
  "kernelspec": {
   "display_name": "Python 3",
   "language": "python",
   "name": "python3"
  },
  "language_info": {
   "codemirror_mode": {
    "name": "ipython",
    "version": 3
   },
   "file_extension": ".py",
   "mimetype": "text/x-python",
   "name": "python",
   "nbconvert_exporter": "python",
   "pygments_lexer": "ipython3",
   "version": "3.8.3"
  }
 },
 "nbformat": 4,
 "nbformat_minor": 4
}
