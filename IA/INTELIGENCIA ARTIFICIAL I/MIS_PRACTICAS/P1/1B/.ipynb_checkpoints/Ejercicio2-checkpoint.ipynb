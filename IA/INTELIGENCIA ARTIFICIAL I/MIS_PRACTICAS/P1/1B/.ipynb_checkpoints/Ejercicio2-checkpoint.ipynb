{
 "cells": [
  {
   "cell_type": "markdown",
   "metadata": {},
   "source": [
    "ENUNCIADO\n",
    "En el siguiente puzle infantil se pide rellenar los espacios en blanco\n",
    "con números del 1 al 9 de tal modo que la ecuación sea correcta siguiendo el\n",
    "orden de las operaciones. Los números no pueden repetirse. Es decir, en cada\n",
    "uno de los 9 huecos en blancos deberá ir un número sin repetirse. Según\n",
    "declaraciones del profesor Tran Phuong existen 362.880 combinaciones\n",
    "posibles para colocar los 9 dígitos en los 9 espacios en blanco, pero sólo unas\n",
    "pocas son correctas"
   ]
  },
  {
   "cell_type": "markdown",
   "metadata": {},
   "source": [
    "RESOLUCION"
   ]
  },
  {
   "cell_type": "markdown",
   "metadata": {},
   "source": [
    "La entrada que recibe el problema es un array que representa la ecuacion:\n",
    "        1)Los huecos se representan mediante 0\n",
    "        2)Ejemplo [0,\"+\",5,\"=\",7]\n",
    "        3) Los numeros caen siempre en las posiciones pares, mientras que los operadores en las posiciones impares"
   ]
  },
  {
   "cell_type": "code",
   "execution_count": 1,
   "metadata": {},
   "outputs": [],
   "source": [
    "from search import *"
   ]
  },
  {
   "cell_type": "code",
   "execution_count": 20,
   "metadata": {},
   "outputs": [],
   "source": [
    "class Puzzle_Numeros (Problem):\n",
    "    \n",
    "    def __init__(self,ec):\n",
    "        '''\n",
    "        El estado es un array en el que las 9 primeras pos indican si hemos usado el numero o no.\n",
    "        La siguiente es el indice por el que vamos en la ecuacion\n",
    "        La penultima es el ultimo operador visitado y la ultima es el valor actual calculado.\n",
    "        Necesitamos guardar el ultimo operador para poder calcular en tiempo constante el valor actual, pues imaginemos que\n",
    "        tenemos 5 + _ = 7\n",
    "        Primero ejecutariamos la accion avanzar, que me llevaria hasta el siguiente hueco y cuyo valor actual es 5.\n",
    "        Para saber que operacion hay que llevar a cabo sobre el hueco debemos guardar el operador \"+\"\n",
    "        '''\n",
    "        self.initial = [0,0,0,0,0,0,0,0,0,0,\"+\",0]\n",
    "        self.goal = [1,1,1,1,1,1,1,1,1,len(ec),\"=\",ec[len(ec)-1]]\n",
    "        self.ecuacion=ec\n",
    "\n",
    "    def actions(self, state):\n",
    "        if(state[9]<len(self.ecuacion) and state[9]%2==0): #Quedan elementos por comprobar, y estamos en un numero\n",
    "            if(self.ecuacion[state[9]]==0):\n",
    "                return [(\"aplicar %d en hueco situado en posicion %d\"%(n,state[9]),n) for n in range (1,10) if state[n-1]==0]\n",
    "            else: return (\"avanzar hasta siguiente hueco\",0)\n",
    "        else: return []\n",
    "\n",
    "    def result(self, state, action):\n",
    "        '''\n",
    "        Hay dos tipos de acciones, aquellas en las que solo tenemos que avanzar hasta el proximo hueco\n",
    "        Y en las que tenemos que asignar un numero a un hueco.\n",
    "        Las podemos diferenciar en el tamaño de la tupla:\n",
    "                    1) (\"nombre\",0):Avanzar\n",
    "                    2) (\"nombre\",numero a asignar)\n",
    "        '''\n",
    "        if action[1]==0: #Avanzar hasta el proximo hueco\n",
    "            i=state[9]\n",
    "            while self.ecuacion[i]!=0 and i<len(self.ecuacion):\n",
    "                #Primero operamos el elemento actual\n",
    "                #Despues avanzamos al siguiente numero, guardando el operador que nos saltamos.\n",
    "                if state[10]==\"+\":\n",
    "                    state[11]+=self.ecuacion[i]\n",
    "                elif state[10]==\"-\":\n",
    "                    state[11]-=self.ecuacion[i]\n",
    "                elif state[10]==\"x\":\n",
    "                    state[11]=state[11]*self.ecuacion[i]\n",
    "                elif state [10]==\":\":\n",
    "                    state[11]=state[11]/self.ecuacion[i]\n",
    "               #Nunca se va a meter en el igual, pues saldremos del bucle en la condicion state[9]=len(ec)  \n",
    "                state[10]=self.ecuacion[i+1]\n",
    "                i+=2\n",
    "            state[9]=i  \n",
    "        else: # Asignamos en el hueco el numero\n",
    "            n=action[1]\n",
    "            if state[10]==\"+\":\n",
    "                state[11]+=n\n",
    "            elif state[10]==\"-\":\n",
    "                state[11]-=n\n",
    "            elif state[10]==\"x\":\n",
    "                state[11]=state[11]*n\n",
    "            elif state[10]==\":\":\n",
    "                state[11]=state[11]/n\n",
    "            state[10]=self.ecuacion[state[9]+1]\n",
    "            state[9]+=2\n",
    "            state[n-1]=1 #Marcamos como ya usado el nmero indicado por la acción\n",
    "        return state\n",
    "            \n",
    "            \n",
    "    def goal_test(self, state):\n",
    "        \"\"\"Return True if the state is a goal. The default method compares the\n",
    "        state to self.goal or checks for state in self.goal if it is a\n",
    "        list, as specified in the constructor. Override this method if\n",
    "        checking against a single self.goal is not enough.\"\"\"\n",
    "        if isinstance(self.goal, list):\n",
    "            return is_in(state, self.goal)\n",
    "        else:\n",
    "            return state == self.goal\n",
    "\n",
    "    def path_cost(self, c, state1, action, state2):\n",
    "        \"\"\"Return the cost of a solution path that arrives at state2 from\n",
    "        state1 via action, assuming cost c to get up to state1. If the problem\n",
    "        is such that the path doesn't matter, this function will only look at\n",
    "        state2.  If the path does matter, it will consider c and maybe state1\n",
    "        and action. The default method costs 1 for every step in the path.\"\"\"\n",
    "        return c + 1\n",
    "\n",
    "    def value(self, state):\n",
    "        \"\"\"For optimization problems, each state has a value.  Hill-climbing\n",
    "        and related algorithms try to maximize this value.\"\"\"\n",
    "        raise NotImplementedError\n",
    "\n",
    "    def coste_de_aplicar_accion(self, estado, accion):\n",
    "        \"\"\"Hemos incluido está función que devuelve el coste de un único operador (aplicar accion a estado). Por defecto, este\n",
    "        coste es 1. Reimplementar si el problema define otro coste \"\"\" \n",
    "        return 1"
   ]
  },
  {
   "cell_type": "code",
   "execution_count": 21,
   "metadata": {},
   "outputs": [],
   "source": [
    "p=Puzzle_Numeros([0,\"+\",13,\"x\",0,\":\",0,\"+\",0,\"+\",12,\"x\",0,\"-\",0,\"-\",11,\"+\",0,\"x\",0,\":\",0,\"-\",10,\"=\",66])"
   ]
  },
  {
   "cell_type": "code",
   "execution_count": 22,
   "metadata": {},
   "outputs": [
    {
     "data": {
      "text/plain": [
       "[0, 0, 0, 0, 0, 0, 0, 0, 0, 0, '+', 0]"
      ]
     },
     "execution_count": 22,
     "metadata": {},
     "output_type": "execute_result"
    }
   ],
   "source": [
    "p.initial"
   ]
  },
  {
   "cell_type": "code",
   "execution_count": 23,
   "metadata": {},
   "outputs": [
    {
     "data": {
      "text/plain": [
       "[('aplicar 1 en hueco situado en posicion 0', 1),\n",
       " ('aplicar 2 en hueco situado en posicion 0', 2),\n",
       " ('aplicar 3 en hueco situado en posicion 0', 3),\n",
       " ('aplicar 4 en hueco situado en posicion 0', 4),\n",
       " ('aplicar 5 en hueco situado en posicion 0', 5),\n",
       " ('aplicar 6 en hueco situado en posicion 0', 6),\n",
       " ('aplicar 7 en hueco situado en posicion 0', 7),\n",
       " ('aplicar 8 en hueco situado en posicion 0', 8),\n",
       " ('aplicar 9 en hueco situado en posicion 0', 9)]"
      ]
     },
     "execution_count": 23,
     "metadata": {},
     "output_type": "execute_result"
    }
   ],
   "source": [
    "p.actions(p.initial)"
   ]
  },
  {
   "cell_type": "code",
   "execution_count": 24,
   "metadata": {},
   "outputs": [
    {
     "data": {
      "text/plain": [
       "[1, 0, 0, 0, 0, 0, 0, 0, 0, 2, '+', 1]"
      ]
     },
     "execution_count": 24,
     "metadata": {},
     "output_type": "execute_result"
    }
   ],
   "source": [
    "a=p.result(p.initial,('aplicar 1 en hueco situado en posicion 0', 1))\n",
    "a"
   ]
  },
  {
   "cell_type": "code",
   "execution_count": 25,
   "metadata": {},
   "outputs": [
    {
     "data": {
      "text/plain": [
       "('avanzar hasta siguiente hueco', 0)"
      ]
     },
     "execution_count": 25,
     "metadata": {},
     "output_type": "execute_result"
    }
   ],
   "source": [
    "p.actions(a)"
   ]
  },
  {
   "cell_type": "code",
   "execution_count": 26,
   "metadata": {},
   "outputs": [],
   "source": [
    "b=p.result(a,(\"avanzar hasta siguiente hueco\",0))"
   ]
  },
  {
   "cell_type": "code",
   "execution_count": 27,
   "metadata": {},
   "outputs": [
    {
     "data": {
      "text/plain": [
       "[('aplicar 2 en hueco situado en posicion 4', 2),\n",
       " ('aplicar 3 en hueco situado en posicion 4', 3),\n",
       " ('aplicar 4 en hueco situado en posicion 4', 4),\n",
       " ('aplicar 5 en hueco situado en posicion 4', 5),\n",
       " ('aplicar 6 en hueco situado en posicion 4', 6),\n",
       " ('aplicar 7 en hueco situado en posicion 4', 7),\n",
       " ('aplicar 8 en hueco situado en posicion 4', 8),\n",
       " ('aplicar 9 en hueco situado en posicion 4', 9)]"
      ]
     },
     "execution_count": 27,
     "metadata": {},
     "output_type": "execute_result"
    }
   ],
   "source": [
    "p.actions(b)"
   ]
  },
  {
   "cell_type": "code",
   "execution_count": null,
   "metadata": {},
   "outputs": [],
   "source": []
  }
 ],
 "metadata": {
  "kernelspec": {
   "display_name": "Python 3",
   "language": "python",
   "name": "python3"
  },
  "language_info": {
   "codemirror_mode": {
    "name": "ipython",
    "version": 3
   },
   "file_extension": ".py",
   "mimetype": "text/x-python",
   "name": "python",
   "nbconvert_exporter": "python",
   "pygments_lexer": "ipython3",
   "version": "3.8.3"
  }
 },
 "nbformat": 4,
 "nbformat_minor": 4
}
