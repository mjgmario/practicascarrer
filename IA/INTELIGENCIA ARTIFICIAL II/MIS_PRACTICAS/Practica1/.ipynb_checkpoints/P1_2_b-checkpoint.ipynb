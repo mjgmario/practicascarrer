{
 "cells": [
  {
   "cell_type": "markdown",
   "metadata": {},
   "source": [
    "__No te olvides de rellenar esto:__\n",
    "\n",
    "- Número de grupo:\n",
    "- Nombre de los integrantes del grupo:"
   ]
  },
  {
   "cell_type": "markdown",
   "metadata": {},
   "source": [
    "# Práctica 1\n",
    "\n",
    "> __Fecha de entrega: 11 de abril de 2021__\n",
    "\n",
    "\n",
    "## Parte 2: similitud semántica\n",
    "\n",
    "Una de las grandes ventajas de las representaciones estructuradas es que podemos aprovechar su estructura para calcular similitudes semánticas entre las entidades. En esta ocasión vamos a cacular la similitud entre dos conceptos como:\n",
    "\n",
    "$$Sim(A, B) = \\frac{\\delta(root, C)}{\\delta(root, C) + \\delta(C, A) + \\delta(C, B)}$$\n",
    "\n",
    "siendo:\n",
    "\n",
    "- $\\delta(X, Y)$ el __mínimo__ número de aristas que conecta A y B, siendo A más general que B.\n",
    "- $C = LCS(A, B)$ el concepto más específico de la jerarquía que es más general que A y B (_least common subsummer_).\n",
    "\n",
    "La idea tras esta similitud queda reflejada en la siguiente imagen:\n",
    "\n",
    "<img src=\"sim.png\" alt=\"Similitud\" style=\"width: 300px;\"/>\n",
    "\n",
    "En la práctica pueden existir distintos conceptos C que cumplen la definición de _least common subsummer_ de A y B por lo que es necesario definir cuál de ellos vamos a utilizar. En nuestro caso seleccionaremos __uno de los que maximiza el valor de similitud__. "
   ]
  },
  {
   "cell_type": "markdown",
   "metadata": {},
   "source": [
    "### 1) Obtener la taxonomía con la que vamos a trabajar\n",
    "\n",
    "Utiliza el [punto el acceso](https://query.wikidata.org/) SPARQL de Wikidata para ejecutar una consulta que devuelva todos los pares de entidades $(x, y)$ tal que $x$ es subconcepto directo de $y$ y ambos son un tipos de [instrumentos musicales (Q34379)](https://www.wikidata.org/wiki/Q34379). Debes recuperar tantos las URIs de la entidades como sus etiquetas.\n",
    "\n",
    "Escribe en la siguiente celda la consulta que has utilizado comentada adecuadamente."
   ]
  },
  {
   "cell_type": "raw",
   "metadata": {},
   "source": [
    "SELECT DISTINCT ?x ?y ?xLabel ?yLabel\n",
    "WHERE{\n",
    "  ?y wdt:P279* wd:Q34379.\n",
    "  ?x wdt:P279 ?y. \n",
    "  SERVICE wikibase:label { bd:serviceParam wikibase:language \"[AUTO_LANGUAGE],es\". }\n",
    "}"
   ]
  },
  {
   "cell_type": "markdown",
   "metadata": {},
   "source": [
    "A continuación descarga todas las respuestas en formato _Archivo JSON_ y guardalo en el mismo directorio de la práctica.\n",
    "\n",
    "_Nota: en el momento de realizar esta práctica obtuve 4727 resultados pero el número puede variar al ser Wikidata una base de conocimiento dinámica._"
   ]
  },
  {
   "cell_type": "markdown",
   "metadata": {},
   "source": [
    "### 2) Cargar la taxonomía en memoria\n",
    "\n",
    "Vamos a cargar la taxonomía de clases en memoria para poder operar con ella. Representaremos la jerarquía de clases mediante las siguientes estructuras:\n",
    "\n",
    "- Un diccionario que asocia a cada identificador su etiqueta (por ejemplo 'Q34379' -> 'musical instrument')\n",
    "- Un diccionario que asocia cada clase con sus subclases directas (por ejemplo 'Q17172850' -> {'Q101436564', 'Q1067089', 'Q186506', 'Q210970', 'Q223166', ...}, )\n",
    "- Un diccionario que asocia cada clase con sus superclases directas (por ejemplo 'Q5994' -> {'Q3152898', 'Q4951628', 'Q52954'})\n",
    "\n",
    "Tienes libertad para elegir cómo quieres representar la taxonomía en Python:\n",
    "\n",
    "- Puedes usar una clase. En ese caso tendrás que ir añadiendo métodos a la clase para completar cada uno de los apartados de la práctica. Escribe el código de la clase en una única celda y utiliza los métodos que necesites en cada uno de los apartados.\n",
    "- Puedes usar 3 variables globales para representar la taxonomía. En ese caso deberás escribir las operaciones como funciones en cada uno de los apartados de la práctica.\n",
    "\n",
    "En cualquier caso recuerda documentar adecuadamente el código y trata de que sea sencillo de entender.\n",
    "\n",
    "Crea una operación _load_ que reciba el nombre del fichero json y cargue el grafo en memoria usando las estructuras anteriores.\n",
    "\n",
    "Recuerda que puedes cargar cualquier estructura en formato json usando el siguiente código:\n",
    "\n",
    "```python\n",
    "import json\n",
    "\n",
    "with open(filename, encoding='utf-8') as f:\n",
    "    data = json.load(f)\n",
    "```"
   ]
  },
  {
   "cell_type": "code",
   "execution_count": 3,
   "metadata": {},
   "outputs": [],
   "source": [
    "import json\n",
    "\n",
    "dic_id={}\n",
    "dic_sub={}\n",
    "dic_sup={}\n",
    "\n",
    "def load(filename):\n",
    "    with open(filename,encoding='utf-8') as file:\n",
    "        data=json.load(file)\n",
    "        for obj in data:\n",
    "            linkX=obj[\"x\"] #Obtenemos el link \n",
    "            linkY=obj[\"y\"]\n",
    "            \n",
    "            idenX=linkX[31:len(linkX)] #Del link extraemos el identificador\n",
    "            idenY=linkY[31:len(linkY)]\n",
    "            \n",
    "            dic_id.setdefault(idenX,obj[\"xLabel\"]) #Modificamos el diccionario de identificadores\n",
    "            dic_id.setdefault(idenY,obj[\"yLabel\"])\n",
    "            \n",
    "            if not(idenY in dic_sub): #Modificamos el de subclases. Almacenamos las subclases en conjuntos.\n",
    "                dic_sub.setdefault(idenY,{idenX})\n",
    "            else:\n",
    "                dic_sub[idenY].add(idenX)\n",
    "                \n",
    "                \n",
    "            if not(idenX in dic_sup):\n",
    "                dic_sup.setdefault(idenX,{idenY})\n",
    "            else:\n",
    "                dic_sup[idenX].add(idenY)"
   ]
  },
  {
   "cell_type": "code",
   "execution_count": 4,
   "metadata": {},
   "outputs": [],
   "source": [
    "import os\n",
    "\n",
    "dir_actual=os.getcwd()\n",
    "with os.scandir(dir_actual) as ficheros:\n",
    "    for fichero in ficheros:\n",
    "        if fichero.is_file() and fichero.name.endswith('.json'):\n",
    "            filename=fichero.name\n",
    "load(filename)"
   ]
  },
  {
   "cell_type": "markdown",
   "metadata": {},
   "source": [
    "### 3) Imprimir un subárbol de la taxonomía\n",
    "\n",
    "Crea una operación _print_tree_ que imprimir la jerarquía de clases a partir de un concepto y hasta un nivel de profundidad determinado.\n",
    "\n",
    "Por ejemplo, a continuación podemos ver el principio de la jerarquía de [voces](https://www.wikidata.org/wiki/Q17172850) con 3 niveles de profundidad:\n",
    "\n",
    "```\n",
    "0 voz (Q17172850)\n",
    "  1 operatic vocal (Q101436564)\n",
    "  1 alto (Q6983813)\n",
    "   2 mezzosoprano ligera (Q6012300)\n",
    "   2 boy alto (Q53395277)\n",
    "   2 alto castrato (Q53395016)\n",
    "   2 contralto (Q37137)\n",
    "  1 contralto (Q37137)\n",
    "   2 contralto cómica (Q5785182)\n",
    "   2 lyric contralto (Q54635214)\n",
    "   2 Tenorino (Q6141663)\n",
    "   2 contralto de coloratura (Q54635184)\n",
    "   2 deep contralto (Q54635335)\n",
    "   2 contralto dramática (Q5785183)\n",
    "  1 bajo (Q27911)\n",
    "   2 heavy acting bass (Q54636271)\n",
    "   2 bajo profundo (Q2532487)\n",
    "   2 bajo buffo (Q1002146)\n",
    "   ...\n",
    "```\n",
    "\n",
    "Como ocurre en todas las grandes bases de conocimiento, dentro de Wikidata hay información que no ha sido bien introducida o está mal clasificada. ¿Puedes encontrar algún ejemplo concreto dentro de la jerarquía de instrumentos?"
   ]
  },
  {
   "cell_type": "code",
   "execution_count": 5,
   "metadata": {},
   "outputs": [],
   "source": [
    "def print_tree(concepto,profundidad):\n",
    "    print(0,\" \",dic_id[concepto],' (',concepto,')',sep=\"\")\n",
    "    print_tree_rec(concepto,1,profundidad)\n",
    "\n",
    "\n",
    "\n",
    "def print_tree_rec(concepto,nivel,profundidad): #Funcion recursiva para representar el recorrido en profundidad del ejemplo\n",
    "    \n",
    "    #Suponemos que el concepto es el identificador y no la etiqueta\n",
    "    \n",
    "    if nivel<profundidad:\n",
    "        if concepto in dic_sub:\n",
    "            for subclase in dic_sub[concepto]:\n",
    "                i=0\n",
    "                while i<nivel: #Tabulador \n",
    "                    print(\" \",end=\"\")\n",
    "                    i+=1\n",
    "                print(nivel,\" \",dic_id[subclase],' (',subclase,')',sep=\"\")\n",
    "                print_tree_rec(subclase,nivel+1,profundidad)\n"
   ]
  },
  {
   "cell_type": "code",
   "execution_count": 6,
   "metadata": {},
   "outputs": [],
   "source": [
    "def obtenerId(concepto):\n",
    "    stop=False\n",
    "    i=0\n",
    "    iden=\"0\"\n",
    "    items=list(dic_id.items())\n",
    "    while not(stop) and i<len(items):\n",
    "        if items[i][1]==concepto:\n",
    "            iden=items[i][0]\n",
    "            stop=True\n",
    "        i+=1\n",
    "    return iden\n",
    "        "
   ]
  },
  {
   "cell_type": "code",
   "execution_count": 7,
   "metadata": {},
   "outputs": [
    {
     "name": "stdout",
     "output_type": "stream",
     "text": [
      "0 voice (Q17172850)\n",
      " 1 backing vocal (Q60396389)\n",
      " 1 contralto (Q37137)\n",
      "  2 dramatic contralto (Q5785183)\n",
      "  2 coloratura contralto (Q54635184)\n",
      "  2 lyric contralto (Q54635214)\n",
      "  2 tenorino (Q6141663)\n",
      "  2 acting alto (Q5785182)\n",
      "  2 deep contralto (Q54635335)\n",
      " 1 countertenor (Q223166)\n",
      "  2 haute-contre (Q1873389)\n",
      " 1 baritone (Q31687)\n",
      "  2 bass-baritone (Q810480)\n",
      "  2 character baritone (Q1062931)\n",
      "  2 dramatic baritone (Q8243257)\n",
      "  2 light baritone (Q5721503)\n",
      "  2 Kavalierbariton (Q54635784)\n",
      "  2 buffo baritone (Q5721499)\n",
      "  2 Barítono martín (Q25404193)\n",
      "  2 baryton-noble (Q19740895)\n",
      "  2 Lyric baritone (Q8243255)\n",
      "  2 heldenbaritone (Q1601737)\n",
      "  2 acting baritone (Q54635751)\n",
      "  2 baryton-Martin (Q21478751)\n",
      "  2 Verdi baritone (Q54635681)\n",
      "  2 grave (Q5885030)\n",
      " 1 high voice (Q98116969)\n",
      "  2 soprano (Q30903)\n",
      "  2 child soprano (Q53829839)\n",
      "  2 tenor (Q27914)\n",
      " 1 throat singing (Q1067089)\n",
      " 1 Treble voice (Q25303818)\n",
      " 1 mezzo-soprano (Q186506)\n",
      "  2 mezzo-soprano castrato (Q54634945)\n",
      "  2 light mezzo-soprano (Q54634726)\n",
      "  2 sopranist (Q1999862)\n",
      "  2 lyric mezzo-soprano (Q1878954)\n",
      "  2 character mezzo-soprano (Q54634862)\n",
      "  2 dramatic mezzo-soprano (Q6012297)\n",
      "  2 coloratura mezzo-soprano (Q54634572)\n",
      "  2 altmezzo (Q682525)\n",
      "  2 Q1300059 (Q1300059)\n",
      " 1 child's voice (Q6164901)\n",
      "  2 child soprano (Q53829839)\n",
      " 1 male singing voice (Q54285279)\n",
      " 1 operatic vocal (Q101436564)\n",
      " 1 female singing voice (Q54285818)\n",
      " 1 bass (Q27911)\n",
      "  2 bass-baritone (Q810480)\n",
      "  2 buffo bass (Q1002146)\n",
      "  2 character bass (Q20638448)\n",
      "  2 high bass (Q54636007)\n",
      "  2 heavy acting bass (Q54636271)\n",
      "  2 serious bass (Q54636068)\n",
      "  2 dramatic high bass (Q54636036)\n",
      "  2 basso profondo (Q2532487)\n",
      "  2 grave (Q5885030)\n",
      "  2 lyric high bass (Q3636053)\n",
      "  2 Bass bourdon (Q64363543)\n",
      "  2 octavist (Q7082656)\n",
      " 1 castrato (Q210970)\n",
      "  2 alto castrato (Q53395016)\n",
      "  2 soprano castrato (Q53830255)\n",
      "  2 mezzo-soprano castrato (Q54634945)\n",
      " 1 alto (Q6983813)\n",
      "  2 boy alto (Q53395277)\n",
      "  2 alto castrato (Q53395016)\n",
      "  2 contralto (Q37137)\n",
      "  2 mezzosoprano ligera (Q6012300)\n"
     ]
    }
   ],
   "source": [
    "concepto=obtenerId(\"voice\") #A pesar de hacer la búsqueda con etiqueta en español, se nos guardan en ingles!\n",
    "print_tree(concepto,3)"
   ]
  },
  {
   "cell_type": "markdown",
   "metadata": {},
   "source": [
    "### 4) Obtener los LCS\n",
    "\n",
    "Crea una operación _lcs_ que devuelva todos los LCS de dos conceptos determinados. Recuerda que un concepto C es LCS(A, B) si es más general que ambos y no se puede especializar más sin dejar de serlo.\n",
    "\n",
    "Para implementarlo seguramente te resulte útil tener otro método que devuelva todos los conceptos más generales que uno dado. _Pista: es fácil de implementar usando operaciones entre conjuntos_. \n",
    "\n",
    "Ejemplos:\n",
    "\n",
    "```\n",
    "mezzosoprano dramática (Q6012297), mezzosoprano ligera (Q54634726), mezzosoprano (Q186506)\n",
    "LCS('Q6012297', 'Q54634726') = {'Q186506'}\n",
    "\n",
    "grave (Q5885030), mezzosoprano ligera (Q6012300), voz (Q17172850)\n",
    "LCS('Q5885030', 'Q6012300') = {'Q17172850'}\n",
    "\n",
    "tenor (Q27914)\n",
    "LCS('Q27914', 'Q27914') = {'Q27914'}\n",
    "\n",
    "viola eléctrica (Q15336282), bajo eléctrico (Q64166304), instrumento de cuerda (Q1798603), electrófono (Q105738), necked box lutes (Q55724840)\n",
    "LCS('Q15336282', 'Q64166304') = {'Q55724840', 'Q105738', 'Q1798603}\n",
    "```"
   ]
  },
  {
   "cell_type": "code",
   "execution_count": 8,
   "metadata": {},
   "outputs": [],
   "source": [
    "def conceptosGenerales(concepto):\n",
    "    conjunto={concepto}\n",
    "    lista=list(dic_sup[concepto])\n",
    "    i=0\n",
    "    while i<len(lista):\n",
    "        superclase=lista[i]\n",
    "        conjunto.add(superclase)\n",
    "        if superclase in dic_sup: #Necesita tener al menos una superclase (No la debería tener seguro?)\n",
    "            for elem in dic_sup[superclase]:\n",
    "                lista.append(elem)\n",
    "        i+=1\n",
    "    return conjunto\n",
    "\n",
    "\n",
    "\n",
    "\n",
    "def lcs(concepto1,concepto2):\n",
    "    conceptos_generales_1=conceptosGenerales(concepto1) #Obtenemos los conceptos más generales de c1.\n",
    "    lcsResultados=set()\n",
    "    #Pueden darse 3 casos: Ellos mismos sean los LCS, o no.\n",
    "    \n",
    "    if concepto2 in conceptos_generales_1:\n",
    "        lcsResultados.add(concepto2)\n",
    "    else:\n",
    "        lista=list(dic_sup[concepto2])\n",
    "        i=0\n",
    "        while i<len(lista) and len(conceptos_generales_1)>0: #La segunda comprobacion es por si concepto1 es directamente el LCS\n",
    "            superclase=lista[i]\n",
    "            if superclase in conceptos_generales_1: \n",
    "                lcsResultados.add(superclase)\n",
    "                #No tiene por qué ser un LCS. Por ejemplo, podemos llegar a instrumento musical por una rama que no contenía LCS\n",
    "                #antes de encontrar el verdadero LCS.\n",
    "                \n",
    "                #Para no encontrar todas sus superclases, no se añaden a la lista que buscamos.\n",
    "                #Tambien es necesario eliminar todos sus conceptos mas generales del conjunto sobre el que buscamos.\n",
    "                #Ya no pueden ser LCS.\n",
    "                cg=conceptosGenerales(superclase)\n",
    "                for elem in cg:\n",
    "                    conceptos_generales_1.discard(elem)\n",
    "                    \n",
    "                    if elem!=superclase and elem in lcsResultados: #Elem no es LCS, es más general que superclase.\n",
    "                        lcsResultados.discard(elem)\n",
    "            else:\n",
    "                if superclase in dic_sup:\n",
    "                    for elem in dic_sup[superclase]:\n",
    "                        lista.append(elem)\n",
    "            i+=1\n",
    "    return lcsResultados\n",
    "    "
   ]
  },
  {
   "cell_type": "code",
   "execution_count": 9,
   "metadata": {},
   "outputs": [
    {
     "name": "stdout",
     "output_type": "stream",
     "text": [
      "{'Q1798603', 'Q105738', 'Q55724840'}\n"
     ]
    }
   ],
   "source": [
    "#Pruebas:\n",
    "#print(lcs(\"Q6012297\",\"Q54634726\"))\n",
    "#print(lcs('Q5885030', 'Q6012300'))\n",
    "print(lcs('Q15336282', 'Q64166304'))"
   ]
  },
  {
   "cell_type": "markdown",
   "metadata": {},
   "source": [
    "### 5) Obtener caminos mínimos\n",
    "\n",
    "Crea una operación _path_ que calcule el camino mínimo entre dos conceptos A y B siendo A más o igual de general que B. Como la taxonomía no tiene ciclos puedes implementarlo como una búsqueda en profunidad. Ten en cuenta que los caminos sólo pueden contener conceptos más específicos o iguales a A y más generales o iguales a B.\n",
    "\n",
    "Ejemplos:\n",
    "\n",
    "```\n",
    "path('Q186506', 'Q54634726') = [mezzosoprano (Q186506), mezzosoprano ligera (Q54634726)]\n",
    "\n",
    "path('Q17172850', 'Q6012300') = [voz (Q17172850), alto (Q6983813), mezzosoprano ligera (Q6012300)]\n",
    "\n",
    "path('Q27914', 'Q27914') = [tenor (Q27914)]\n",
    "\n",
    "path('Q34379', 'Q105738') = [instrumento musical (Q34379), cordófono (Q1051772), composite chordophones (Q19588495), lutes (Q1808578), handle lutes (Q30038759), necked lutes (Q55724833), necked box lutes (Q55724840)]\n",
    " ```"
   ]
  },
  {
   "cell_type": "code",
   "execution_count": 10,
   "metadata": {},
   "outputs": [],
   "source": [
    "import math\n",
    "\n",
    "#Implementado como busqueda en profundidad\n",
    "def path(conceptoA,conceptoB):\n",
    "    \n",
    "    camino_minimo=[]\n",
    "    minimo=math.inf\n",
    "    \n",
    "    \n",
    "    camino_aux=[]\n",
    "    aux=0\n",
    "    pila=[conceptoA]\n",
    "    while len(pila)>0:\n",
    "        elem=pila.pop()\n",
    "        \n",
    "        while len(camino_aux)>0 and (not (elem in dic_sub[camino_aux[len(camino_aux)-1]])): #Arreglar la vuelta atrás\n",
    "            aux-=1\n",
    "            camino_aux.pop()\n",
    "            \n",
    "        aux+=1\n",
    "        camino_aux.append(elem)\n",
    "        \n",
    "        if elem==conceptoB: #Caso final. En el else comprobamos que aux<minimo. Por lo tanto si llega aqui va a ser el minimo.\n",
    "            minimo=aux\n",
    "            camino_minimo=[x for x in camino_aux]\n",
    "            aux-=1\n",
    "            camino_aux.pop()\n",
    "            \n",
    "        else:\n",
    "            if aux<minimo and elem in dic_sub:\n",
    "                for conc in dic_sub[elem]:\n",
    "                    pila.append(conc)\n",
    "            else:\n",
    "                aux-=1\n",
    "                camino_aux.pop()\n",
    "                \n",
    "                \n",
    "    return camino_minimo\n",
    "    \n",
    "    \n",
    "    "
   ]
  },
  {
   "cell_type": "code",
   "execution_count": 11,
   "metadata": {},
   "outputs": [
    {
     "name": "stdout",
     "output_type": "stream",
     "text": [
      "['Q186506', 'Q54634726']\n",
      "['Q17172850', 'Q6983813', 'Q6012300']\n",
      "['Q27914']\n",
      "['Q34379', 'Q1051772', 'Q19588495', 'Q1808578', 'Q30038759', 'Q55724833', 'Q55724840']\n"
     ]
    }
   ],
   "source": [
    "#Pruebas\n",
    "print(path('Q186506', 'Q54634726'))\n",
    "print(path('Q17172850', 'Q6012300'))\n",
    "print(path('Q27914', 'Q27914'))\n",
    "print(path('Q34379', 'Q55724840'))"
   ]
  },
  {
   "cell_type": "markdown",
   "metadata": {},
   "source": [
    "### 6) Calcular la similitud\n",
    "\n",
    "Implementa una operación _similarity_ que calcule la similtud entre dos conceptos. Debe devolver tanto el valor númerico de similitud como los caminos desde la raiz al LCS y desde el LCS a cada uno de los dos conceptos.\n",
    "\n",
    "Ten en cuenta que debes usar un LCS que maximice el valor de similitud. Si la información de Wikidata no ha cambiado, los valores de similitud deberían coincidir con los que aparecen en los ejemplos pero los caminos no tienen por qué. Y recuerda que no es lo mismo el números de aristas de un camino que el número de nodos del camino.\n",
    "\n",
    "Ejemplos:\n",
    "\n",
    "```\n",
    "similarity('Q6012297', 'Q54634726')\n",
    "0.5\n",
    "[instrumento musical (Q34379), voz (Q17172850), mezzosoprano (Q186506)]\n",
    "[mezzosoprano (Q186506), mezzosoprano dramática (Q6012297)]\n",
    "[mezzosoprano (Q186506), mezzosoprano ligera (Q54634726)]\n",
    "\n",
    "similarity('Q186506', 'Q54634726')\n",
    "0.6666666666666666\n",
    "[instrumento musical (Q34379), voz (Q17172850), mezzosoprano (Q186506)]\n",
    "[mezzosoprano (Q186506)]\n",
    "[mezzosoprano (Q186506), mezzosoprano ligera (Q54634726)]\n",
    "\n",
    "similarity('Q27914', 'Q27914')\n",
    "1.0\n",
    "[instrumento musical (Q34379), voz (Q17172850), high voice (Q98116969), tenor (Q27914)]\n",
    "[tenor (Q27914)]\n",
    "[tenor (Q27914)]\n",
    "\n",
    "similarity('Q76239', 'Q78987')\n",
    "0.42857142857142855\n",
    "[instrumento musical (Q34379), cordófono (Q1051772), instrumento de cuerda (Q1798603), instrumento de cuerda pulsada (Q230262)]\n",
    "[instrumento de cuerda pulsada (Q230262), cítara (Q76239)]\n",
    "[instrumento de cuerda pulsada (Q230262), plucked necked box lutes (Q57306162), guitarra (Q6607), guitarra eléctrica (Q78987)]\n",
    "```"
   ]
  },
  {
   "cell_type": "code",
   "execution_count": 13,
   "metadata": {},
   "outputs": [],
   "source": [
    "def similarity(conceptoA,conceptoB):\n",
    "    lcsSet=lcs(conceptoA,conceptoB)\n",
    "    similitud=0\n",
    "    caminorootToLCS=[]\n",
    "    caminoLCSToA=[]\n",
    "    caminoLCSToB=[]\n",
    "    for lcsElem in lcsSet:#Hallamos similitud.\n",
    "        \n",
    "        c1=path(\"Q34379\",lcsElem)\n",
    "        s1=len(c1)-1\n",
    "        c2=path(lcsElem,conceptoA)\n",
    "        s2=len(c2)-1\n",
    "        c3=path(lcsElem,conceptoB)\n",
    "        s3=len(c3)-1\n",
    "        \n",
    "        sAux=s1/(s1+s2+s3)\n",
    "        if sAux>similitud:\n",
    "            similitud=sAux\n",
    "            caminorootToLCS=[x for x in c1]\n",
    "            caminoLCSToA=[x for x in c2]\n",
    "            caminoLCSToB=[x for x in c3]\n",
    "    return (similitud,caminorootToLCS,caminoLCSToA,caminoLCSToB)\n",
    "        "
   ]
  },
  {
   "cell_type": "code",
   "execution_count": 14,
   "metadata": {},
   "outputs": [
    {
     "name": "stdout",
     "output_type": "stream",
     "text": [
      "0.5\n",
      "['Q34379', 'Q17172850', 'Q186506']\n",
      "['Q186506', 'Q6012297']\n",
      "['Q186506', 'Q54634726']\n"
     ]
    }
   ],
   "source": [
    "#Pruebas\n",
    "t1=similarity('Q6012297', 'Q54634726')\n",
    "print(t1[0])\n",
    "print(t1[1])\n",
    "print(t1[2])\n",
    "print(t1[3])"
   ]
  },
  {
   "cell_type": "code",
   "execution_count": 15,
   "metadata": {},
   "outputs": [
    {
     "name": "stdout",
     "output_type": "stream",
     "text": [
      "0.6666666666666666\n",
      "['Q34379', 'Q17172850', 'Q186506']\n",
      "['Q186506']\n",
      "['Q186506', 'Q54634726']\n"
     ]
    }
   ],
   "source": [
    "t2=similarity('Q186506', 'Q54634726')\n",
    "print(t2[0])\n",
    "print(t2[1])\n",
    "print(t2[2])\n",
    "print(t2[3])"
   ]
  },
  {
   "cell_type": "code",
   "execution_count": 16,
   "metadata": {},
   "outputs": [
    {
     "name": "stdout",
     "output_type": "stream",
     "text": [
      "1.0\n",
      "['Q34379', 'Q17172850', 'Q98116969', 'Q27914']\n",
      "['Q27914']\n",
      "['Q27914']\n"
     ]
    }
   ],
   "source": [
    "t3=similarity('Q27914', 'Q27914')\n",
    "print(t3[0])\n",
    "print(t3[1])\n",
    "print(t3[2])\n",
    "print(t3[3])"
   ]
  },
  {
   "cell_type": "code",
   "execution_count": 17,
   "metadata": {},
   "outputs": [
    {
     "name": "stdout",
     "output_type": "stream",
     "text": [
      "0.42857142857142855\n",
      "['Q34379', 'Q1051772', 'Q1798603', 'Q230262']\n",
      "['Q230262', 'Q76239']\n",
      "['Q230262', 'Q57306162', 'Q6607', 'Q78987']\n"
     ]
    }
   ],
   "source": [
    "t4=similarity('Q76239', 'Q78987')\n",
    "print(t4[0])\n",
    "print(t4[1])\n",
    "print(t4[2])\n",
    "print(t4[3])"
   ]
  },
  {
   "cell_type": "markdown",
   "metadata": {},
   "source": [
    "### 7) Análisis de las similitudes\n",
    "\n",
    "Calcula la similitud 2 a 2 de los siguientes instrumentos y explica razonadamente si los valores obtenidos tienen sentido de acuerdo a tu intuición sobre si se parecen o no.\n",
    "\n",
    "```\n",
    "piano (Q5994), guitarra (Q6607), guitarra eléctrica (Q78987), flauta (Q11405), trompeta (Q8338)\n",
    "```"
   ]
  },
  {
   "cell_type": "code",
   "execution_count": null,
   "metadata": {},
   "outputs": [],
   "source": []
  }
 ],
 "metadata": {
  "kernelspec": {
   "display_name": "Python 3",
   "language": "python",
   "name": "python3"
  },
  "language_info": {
   "codemirror_mode": {
    "name": "ipython",
    "version": 3
   },
   "file_extension": ".py",
   "mimetype": "text/x-python",
   "name": "python",
   "nbconvert_exporter": "python",
   "pygments_lexer": "ipython3",
   "version": "3.8.3"
  }
 },
 "nbformat": 4,
 "nbformat_minor": 4
}
